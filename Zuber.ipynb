{
 "cells": [
  {
   "cell_type": "markdown",
   "metadata": {},
   "source": [
    "# Table of Contents\n",
    "\n",
    "- [Introduction](#1)\n",
    "- [Opening the data files and studying the general information](#2)\n",
    "- [Preparing the data for analysis](#3)\n",
    "- [Task 1) Finding the Top 10 Neighborhoods for Taxi Dropoffs](#4)\n",
    "- [Task 2) Comparing the Popularity of Different Taxi Companies](#5)\n",
    "- [Task 3) Duration of Rides In Different Weather Conditions Hypothesis Test](#6)\n",
    "- [Conclusions](#7)"
   ]
  },
  {
   "cell_type": "markdown",
   "metadata": {},
   "source": [
    "# Introduction <a id=1></a>\n",
    "\n",
    "I am an analyst for **Zuber**, a new ride-sharing company that is launching in Chicago. \n",
    "\n",
    "I have been hired to complete the following tasks:\n",
    "\n",
    "1) Identify the top 10 neighborhoods in Chicago in terms of number of dropoffs. \n",
    "\n",
    "2) Determine how taxi companies (in Chicago) rank in terms of number of rides given.\n",
    "\n",
    "3) Test this hypothesis: ***The average duration of rides from the Loop (neighborhood) to O'Hare International Airport changes on rainy Saturdays.***\n",
    "\n",
    "In order to complete these tasks, I use three data files that were previously acquired using SQL. The contents of the files are as follows:\n",
    "\n",
    "**project_sql_result_01.csv**\n",
    "\n",
    "— company_name (The name of the taxi company)\n",
    "\n",
    "— trips_amount (The number of rides completed by the drivers of the corresponding taxi company on November 15-16, 2017)\n",
    "\n",
    "**project_sql_result_04.csv**\n",
    "\n",
    "— dropoff_location_name (The name of a Chicago neighborhood where a non-zero number of taxi rides ended)\n",
    "\n",
    "— average_trips (The average number of rides that ended in the corresponding neighborhood in November 2017)\n",
    "\n",
    "**project_sql_result_07.csv**\n",
    "\n",
    "— start_ts (A taxi ride's pickup date and time, where time is rounded to the hour)\n",
    "\n",
    "— weather_conditions (The weather conditions at the moment the corresponding taxi ride started, written as simply \"Good\" or \"Bad\")\n",
    "\n",
    "— duration_seconds (The corresponding taxi ride's duration in seconds)\n",
    "\n",
    "After completing the above tasks, I write out my insights which **Zuber** stakeholders may use to make decisions regarding how to successfully launch."
   ]
  },
  {
   "cell_type": "code",
   "execution_count": 1,
   "metadata": {},
   "outputs": [],
   "source": [
    "from scipy import stats as st\n",
    "import matplotlib.pyplot as plt\n",
    "import numpy as np\n",
    "import pandas as pd\n",
    "import seaborn as sns"
   ]
  },
  {
   "cell_type": "markdown",
   "metadata": {},
   "source": [
    "# Opening the data files and studying the general information <a id=2></a>"
   ]
  },
  {
   "cell_type": "code",
   "execution_count": 2,
   "metadata": {},
   "outputs": [
    {
     "name": "stdout",
     "output_type": "stream",
     "text": [
      "<class 'pandas.core.frame.DataFrame'>\n",
      "RangeIndex: 64 entries, 0 to 63\n",
      "Data columns (total 2 columns):\n",
      " #   Column        Non-Null Count  Dtype \n",
      "---  ------        --------------  ----- \n",
      " 0   company_name  64 non-null     object\n",
      " 1   trips_amount  64 non-null     int64 \n",
      "dtypes: int64(1), object(1)\n",
      "memory usage: 1.1+ KB\n"
     ]
    },
    {
     "data": {
      "text/html": [
       "<div>\n",
       "<style scoped>\n",
       "    .dataframe tbody tr th:only-of-type {\n",
       "        vertical-align: middle;\n",
       "    }\n",
       "\n",
       "    .dataframe tbody tr th {\n",
       "        vertical-align: top;\n",
       "    }\n",
       "\n",
       "    .dataframe thead th {\n",
       "        text-align: right;\n",
       "    }\n",
       "</style>\n",
       "<table border=\"1\" class=\"dataframe\">\n",
       "  <thead>\n",
       "    <tr style=\"text-align: right;\">\n",
       "      <th></th>\n",
       "      <th>company_name</th>\n",
       "      <th>trips_amount</th>\n",
       "    </tr>\n",
       "  </thead>\n",
       "  <tbody>\n",
       "    <tr>\n",
       "      <th>0</th>\n",
       "      <td>Flash Cab</td>\n",
       "      <td>19558</td>\n",
       "    </tr>\n",
       "    <tr>\n",
       "      <th>1</th>\n",
       "      <td>Taxi Affiliation Services</td>\n",
       "      <td>11422</td>\n",
       "    </tr>\n",
       "    <tr>\n",
       "      <th>2</th>\n",
       "      <td>Medallion Leasing</td>\n",
       "      <td>10367</td>\n",
       "    </tr>\n",
       "    <tr>\n",
       "      <th>3</th>\n",
       "      <td>Yellow Cab</td>\n",
       "      <td>9888</td>\n",
       "    </tr>\n",
       "    <tr>\n",
       "      <th>4</th>\n",
       "      <td>Taxi Affiliation Service Yellow</td>\n",
       "      <td>9299</td>\n",
       "    </tr>\n",
       "    <tr>\n",
       "      <th>...</th>\n",
       "      <td>...</td>\n",
       "      <td>...</td>\n",
       "    </tr>\n",
       "    <tr>\n",
       "      <th>59</th>\n",
       "      <td>4053 - 40193 Adwar H. Nikola</td>\n",
       "      <td>7</td>\n",
       "    </tr>\n",
       "    <tr>\n",
       "      <th>60</th>\n",
       "      <td>2733 - 74600 Benny Jona</td>\n",
       "      <td>7</td>\n",
       "    </tr>\n",
       "    <tr>\n",
       "      <th>61</th>\n",
       "      <td>5874 - 73628 Sergey Cab Corp.</td>\n",
       "      <td>5</td>\n",
       "    </tr>\n",
       "    <tr>\n",
       "      <th>62</th>\n",
       "      <td>2241 - 44667 - Felman Corp</td>\n",
       "      <td>3</td>\n",
       "    </tr>\n",
       "    <tr>\n",
       "      <th>63</th>\n",
       "      <td>3556 - 36214 RC Andrews Cab</td>\n",
       "      <td>2</td>\n",
       "    </tr>\n",
       "  </tbody>\n",
       "</table>\n",
       "<p>64 rows × 2 columns</p>\n",
       "</div>"
      ],
      "text/plain": [
       "                       company_name  trips_amount\n",
       "0                         Flash Cab         19558\n",
       "1         Taxi Affiliation Services         11422\n",
       "2                 Medallion Leasing         10367\n",
       "3                        Yellow Cab          9888\n",
       "4   Taxi Affiliation Service Yellow          9299\n",
       "..                              ...           ...\n",
       "59     4053 - 40193 Adwar H. Nikola             7\n",
       "60          2733 - 74600 Benny Jona             7\n",
       "61    5874 - 73628 Sergey Cab Corp.             5\n",
       "62       2241 - 44667 - Felman Corp             3\n",
       "63      3556 - 36214 RC Andrews Cab             2\n",
       "\n",
       "[64 rows x 2 columns]"
      ]
     },
     "metadata": {},
     "output_type": "display_data"
    }
   ],
   "source": [
    "nov_15_to_16_2017_trips_data_of_companies = pd.read_csv('/datasets/project_sql_result_01.csv')\n",
    "\n",
    "nov_15_to_16_2017_trips_data_of_companies.info()\n",
    "\n",
    "display(nov_15_to_16_2017_trips_data_of_companies)"
   ]
  },
  {
   "cell_type": "markdown",
   "metadata": {},
   "source": [
    "It is good to see that both column names are written in snake_case, and that both columns only have non-null values. \n",
    "\n",
    "Furthermore, it makes sense for **company_name** to have Dtype \"object\" since one would expect company names to be written as strings, and it also makes sense for **trips_amount** to have Dtype \"int64\" as opposed to float because taxi trips are discrete quantities. (It would not make sense for a **trips_amount** value to be, for example, 10.5 because one cannot take 0.5 of a taxi ride).\n",
    "\n",
    "Furthermore, it appears that the rows are arranged in descending order of **trips_amount** values. How convenient!"
   ]
  },
  {
   "cell_type": "code",
   "execution_count": 3,
   "metadata": {},
   "outputs": [
    {
     "name": "stdout",
     "output_type": "stream",
     "text": [
      "<class 'pandas.core.frame.DataFrame'>\n",
      "RangeIndex: 94 entries, 0 to 93\n",
      "Data columns (total 2 columns):\n",
      " #   Column                 Non-Null Count  Dtype  \n",
      "---  ------                 --------------  -----  \n",
      " 0   dropoff_location_name  94 non-null     object \n",
      " 1   average_trips          94 non-null     float64\n",
      "dtypes: float64(1), object(1)\n",
      "memory usage: 1.6+ KB\n"
     ]
    },
    {
     "data": {
      "text/html": [
       "<div>\n",
       "<style scoped>\n",
       "    .dataframe tbody tr th:only-of-type {\n",
       "        vertical-align: middle;\n",
       "    }\n",
       "\n",
       "    .dataframe tbody tr th {\n",
       "        vertical-align: top;\n",
       "    }\n",
       "\n",
       "    .dataframe thead th {\n",
       "        text-align: right;\n",
       "    }\n",
       "</style>\n",
       "<table border=\"1\" class=\"dataframe\">\n",
       "  <thead>\n",
       "    <tr style=\"text-align: right;\">\n",
       "      <th></th>\n",
       "      <th>dropoff_location_name</th>\n",
       "      <th>average_trips</th>\n",
       "    </tr>\n",
       "  </thead>\n",
       "  <tbody>\n",
       "    <tr>\n",
       "      <th>0</th>\n",
       "      <td>Loop</td>\n",
       "      <td>10727.466667</td>\n",
       "    </tr>\n",
       "    <tr>\n",
       "      <th>1</th>\n",
       "      <td>River North</td>\n",
       "      <td>9523.666667</td>\n",
       "    </tr>\n",
       "    <tr>\n",
       "      <th>2</th>\n",
       "      <td>Streeterville</td>\n",
       "      <td>6664.666667</td>\n",
       "    </tr>\n",
       "    <tr>\n",
       "      <th>3</th>\n",
       "      <td>West Loop</td>\n",
       "      <td>5163.666667</td>\n",
       "    </tr>\n",
       "    <tr>\n",
       "      <th>4</th>\n",
       "      <td>O'Hare</td>\n",
       "      <td>2546.900000</td>\n",
       "    </tr>\n",
       "    <tr>\n",
       "      <th>...</th>\n",
       "      <td>...</td>\n",
       "      <td>...</td>\n",
       "    </tr>\n",
       "    <tr>\n",
       "      <th>89</th>\n",
       "      <td>Mount Greenwood</td>\n",
       "      <td>3.137931</td>\n",
       "    </tr>\n",
       "    <tr>\n",
       "      <th>90</th>\n",
       "      <td>Hegewisch</td>\n",
       "      <td>3.117647</td>\n",
       "    </tr>\n",
       "    <tr>\n",
       "      <th>91</th>\n",
       "      <td>Burnside</td>\n",
       "      <td>2.333333</td>\n",
       "    </tr>\n",
       "    <tr>\n",
       "      <th>92</th>\n",
       "      <td>East Side</td>\n",
       "      <td>1.961538</td>\n",
       "    </tr>\n",
       "    <tr>\n",
       "      <th>93</th>\n",
       "      <td>Riverdale</td>\n",
       "      <td>1.800000</td>\n",
       "    </tr>\n",
       "  </tbody>\n",
       "</table>\n",
       "<p>94 rows × 2 columns</p>\n",
       "</div>"
      ],
      "text/plain": [
       "   dropoff_location_name  average_trips\n",
       "0                   Loop   10727.466667\n",
       "1            River North    9523.666667\n",
       "2          Streeterville    6664.666667\n",
       "3              West Loop    5163.666667\n",
       "4                 O'Hare    2546.900000\n",
       "..                   ...            ...\n",
       "89       Mount Greenwood       3.137931\n",
       "90             Hegewisch       3.117647\n",
       "91              Burnside       2.333333\n",
       "92             East Side       1.961538\n",
       "93             Riverdale       1.800000\n",
       "\n",
       "[94 rows x 2 columns]"
      ]
     },
     "metadata": {},
     "output_type": "display_data"
    }
   ],
   "source": [
    "avg_trips_of_neighborhoods = pd.read_csv('/datasets/project_sql_result_04.csv')\n",
    "\n",
    "avg_trips_of_neighborhoods.info()\n",
    "\n",
    "display(avg_trips_of_neighborhoods)"
   ]
  },
  {
   "cell_type": "markdown",
   "metadata": {},
   "source": [
    "Just like the first dataframe, both column names are written in snake_case and only have non-null values.\n",
    "\n",
    "Also just like the first dataframe, the Dtypes are appropriate. It makes sense for the **average_trips** values to have Dtype \"float64\" because when taking the average of discrete values, in this case number of taxi rides, it is common for the resulting average to be a decimal. In some situations it would make sense to round the values, however I will not do that here because rounding the values in a dataframe upfront can lead to calculation errors later on in the analysis.\n",
    "\n",
    "Sure enough, the rows appear to be arranged in descending order of **average_trips** values. Fantastic!"
   ]
  },
  {
   "cell_type": "code",
   "execution_count": 4,
   "metadata": {},
   "outputs": [
    {
     "name": "stdout",
     "output_type": "stream",
     "text": [
      "<class 'pandas.core.frame.DataFrame'>\n",
      "RangeIndex: 1068 entries, 0 to 1067\n",
      "Data columns (total 3 columns):\n",
      " #   Column              Non-Null Count  Dtype  \n",
      "---  ------              --------------  -----  \n",
      " 0   start_ts            1068 non-null   object \n",
      " 1   weather_conditions  1068 non-null   object \n",
      " 2   duration_seconds    1068 non-null   float64\n",
      "dtypes: float64(1), object(2)\n",
      "memory usage: 25.2+ KB\n"
     ]
    },
    {
     "data": {
      "text/html": [
       "<div>\n",
       "<style scoped>\n",
       "    .dataframe tbody tr th:only-of-type {\n",
       "        vertical-align: middle;\n",
       "    }\n",
       "\n",
       "    .dataframe tbody tr th {\n",
       "        vertical-align: top;\n",
       "    }\n",
       "\n",
       "    .dataframe thead th {\n",
       "        text-align: right;\n",
       "    }\n",
       "</style>\n",
       "<table border=\"1\" class=\"dataframe\">\n",
       "  <thead>\n",
       "    <tr style=\"text-align: right;\">\n",
       "      <th></th>\n",
       "      <th>start_ts</th>\n",
       "      <th>weather_conditions</th>\n",
       "      <th>duration_seconds</th>\n",
       "    </tr>\n",
       "  </thead>\n",
       "  <tbody>\n",
       "    <tr>\n",
       "      <th>0</th>\n",
       "      <td>2017-11-25 16:00:00</td>\n",
       "      <td>Good</td>\n",
       "      <td>2410.0</td>\n",
       "    </tr>\n",
       "    <tr>\n",
       "      <th>1</th>\n",
       "      <td>2017-11-25 14:00:00</td>\n",
       "      <td>Good</td>\n",
       "      <td>1920.0</td>\n",
       "    </tr>\n",
       "    <tr>\n",
       "      <th>2</th>\n",
       "      <td>2017-11-25 12:00:00</td>\n",
       "      <td>Good</td>\n",
       "      <td>1543.0</td>\n",
       "    </tr>\n",
       "    <tr>\n",
       "      <th>3</th>\n",
       "      <td>2017-11-04 10:00:00</td>\n",
       "      <td>Good</td>\n",
       "      <td>2512.0</td>\n",
       "    </tr>\n",
       "    <tr>\n",
       "      <th>4</th>\n",
       "      <td>2017-11-11 07:00:00</td>\n",
       "      <td>Good</td>\n",
       "      <td>1440.0</td>\n",
       "    </tr>\n",
       "    <tr>\n",
       "      <th>...</th>\n",
       "      <td>...</td>\n",
       "      <td>...</td>\n",
       "      <td>...</td>\n",
       "    </tr>\n",
       "    <tr>\n",
       "      <th>1063</th>\n",
       "      <td>2017-11-25 11:00:00</td>\n",
       "      <td>Good</td>\n",
       "      <td>0.0</td>\n",
       "    </tr>\n",
       "    <tr>\n",
       "      <th>1064</th>\n",
       "      <td>2017-11-11 10:00:00</td>\n",
       "      <td>Good</td>\n",
       "      <td>1318.0</td>\n",
       "    </tr>\n",
       "    <tr>\n",
       "      <th>1065</th>\n",
       "      <td>2017-11-11 13:00:00</td>\n",
       "      <td>Good</td>\n",
       "      <td>2100.0</td>\n",
       "    </tr>\n",
       "    <tr>\n",
       "      <th>1066</th>\n",
       "      <td>2017-11-11 08:00:00</td>\n",
       "      <td>Good</td>\n",
       "      <td>1380.0</td>\n",
       "    </tr>\n",
       "    <tr>\n",
       "      <th>1067</th>\n",
       "      <td>2017-11-04 16:00:00</td>\n",
       "      <td>Bad</td>\n",
       "      <td>2834.0</td>\n",
       "    </tr>\n",
       "  </tbody>\n",
       "</table>\n",
       "<p>1068 rows × 3 columns</p>\n",
       "</div>"
      ],
      "text/plain": [
       "                 start_ts weather_conditions  duration_seconds\n",
       "0     2017-11-25 16:00:00               Good            2410.0\n",
       "1     2017-11-25 14:00:00               Good            1920.0\n",
       "2     2017-11-25 12:00:00               Good            1543.0\n",
       "3     2017-11-04 10:00:00               Good            2512.0\n",
       "4     2017-11-11 07:00:00               Good            1440.0\n",
       "...                   ...                ...               ...\n",
       "1063  2017-11-25 11:00:00               Good               0.0\n",
       "1064  2017-11-11 10:00:00               Good            1318.0\n",
       "1065  2017-11-11 13:00:00               Good            2100.0\n",
       "1066  2017-11-11 08:00:00               Good            1380.0\n",
       "1067  2017-11-04 16:00:00                Bad            2834.0\n",
       "\n",
       "[1068 rows x 3 columns]"
      ]
     },
     "metadata": {},
     "output_type": "display_data"
    }
   ],
   "source": [
    "trips_loop_to_ohare_by_weather = pd.read_csv('/datasets/project_sql_result_07.csv')\n",
    "\n",
    "trips_loop_to_ohare_by_weather.info()\n",
    "\n",
    "display(trips_loop_to_ohare_by_weather)"
   ]
  },
  {
   "cell_type": "markdown",
   "metadata": {},
   "source": [
    "I think it is worth explaining that the **weather_conditions** data was parsed from a website on weather in Chicago in November 2017 using SQL. Afterwards, each hour of every day in November was put into one of two groups: \"Bad\" if the description field from the parsed data contained the words \"rain\" and/or \"storm\", and \"Good\" for all others.\n",
    "\n",
    "Just like the other two dataframes, it is good to see that the column names are written in snake_case and that there are no null values. However, I have two ideas on how to better prepare this dataframe for analysis:\n",
    "\n",
    "(1) The **start_ts** values do not appear to be in any particular order, and I think it would be nice to rearrange them in ascending order so that they are then in chronological order.\n",
    "\n",
    "(2) By displaying part of the dataframe, I can see that there is at least one **duration_seconds** value of 0.0. This is probably either a typo or it signifies that the ride (for whatever reason) was canceled. Whatever the case, any rows that have a **duration_seconds** value of 0.0 will need to be dropped because they are not useful for this analysis."
   ]
  },
  {
   "cell_type": "markdown",
   "metadata": {},
   "source": [
    "# Preparing the data for analysis <a id=3></a>"
   ]
  },
  {
   "cell_type": "markdown",
   "metadata": {},
   "source": [
    "It is always a good idea to check if any of the dataframes have rows that are exact duplicates, and if so drop them."
   ]
  },
  {
   "cell_type": "code",
   "execution_count": 5,
   "metadata": {},
   "outputs": [
    {
     "data": {
      "text/html": [
       "<div>\n",
       "<style scoped>\n",
       "    .dataframe tbody tr th:only-of-type {\n",
       "        vertical-align: middle;\n",
       "    }\n",
       "\n",
       "    .dataframe tbody tr th {\n",
       "        vertical-align: top;\n",
       "    }\n",
       "\n",
       "    .dataframe thead th {\n",
       "        text-align: right;\n",
       "    }\n",
       "</style>\n",
       "<table border=\"1\" class=\"dataframe\">\n",
       "  <thead>\n",
       "    <tr style=\"text-align: right;\">\n",
       "      <th></th>\n",
       "      <th>company_name</th>\n",
       "      <th>trips_amount</th>\n",
       "    </tr>\n",
       "  </thead>\n",
       "  <tbody>\n",
       "  </tbody>\n",
       "</table>\n",
       "</div>"
      ],
      "text/plain": [
       "Empty DataFrame\n",
       "Columns: [company_name, trips_amount]\n",
       "Index: []"
      ]
     },
     "metadata": {},
     "output_type": "display_data"
    }
   ],
   "source": [
    "display(nov_15_to_16_2017_trips_data_of_companies[nov_15_to_16_2017_trips_data_of_companies.duplicated()])"
   ]
  },
  {
   "cell_type": "markdown",
   "metadata": {},
   "source": [
    "The first dataframe does not have any rows that are exact duplicates. Great!"
   ]
  },
  {
   "cell_type": "code",
   "execution_count": 6,
   "metadata": {},
   "outputs": [
    {
     "data": {
      "text/html": [
       "<div>\n",
       "<style scoped>\n",
       "    .dataframe tbody tr th:only-of-type {\n",
       "        vertical-align: middle;\n",
       "    }\n",
       "\n",
       "    .dataframe tbody tr th {\n",
       "        vertical-align: top;\n",
       "    }\n",
       "\n",
       "    .dataframe thead th {\n",
       "        text-align: right;\n",
       "    }\n",
       "</style>\n",
       "<table border=\"1\" class=\"dataframe\">\n",
       "  <thead>\n",
       "    <tr style=\"text-align: right;\">\n",
       "      <th></th>\n",
       "      <th>dropoff_location_name</th>\n",
       "      <th>average_trips</th>\n",
       "    </tr>\n",
       "  </thead>\n",
       "  <tbody>\n",
       "  </tbody>\n",
       "</table>\n",
       "</div>"
      ],
      "text/plain": [
       "Empty DataFrame\n",
       "Columns: [dropoff_location_name, average_trips]\n",
       "Index: []"
      ]
     },
     "metadata": {},
     "output_type": "display_data"
    }
   ],
   "source": [
    "display(avg_trips_of_neighborhoods[avg_trips_of_neighborhoods.duplicated()])"
   ]
  },
  {
   "cell_type": "markdown",
   "metadata": {},
   "source": [
    "The second dataframe does not have any rows that are exact duplicates. Wonderful!"
   ]
  },
  {
   "cell_type": "code",
   "execution_count": 7,
   "metadata": {
    "scrolled": true
   },
   "outputs": [
    {
     "data": {
      "text/html": [
       "<div>\n",
       "<style scoped>\n",
       "    .dataframe tbody tr th:only-of-type {\n",
       "        vertical-align: middle;\n",
       "    }\n",
       "\n",
       "    .dataframe tbody tr th {\n",
       "        vertical-align: top;\n",
       "    }\n",
       "\n",
       "    .dataframe thead th {\n",
       "        text-align: right;\n",
       "    }\n",
       "</style>\n",
       "<table border=\"1\" class=\"dataframe\">\n",
       "  <thead>\n",
       "    <tr style=\"text-align: right;\">\n",
       "      <th></th>\n",
       "      <th>start_ts</th>\n",
       "      <th>weather_conditions</th>\n",
       "      <th>duration_seconds</th>\n",
       "    </tr>\n",
       "  </thead>\n",
       "  <tbody>\n",
       "    <tr>\n",
       "      <th>62</th>\n",
       "      <td>2017-11-11 06:00:00</td>\n",
       "      <td>Good</td>\n",
       "      <td>1260.0</td>\n",
       "    </tr>\n",
       "    <tr>\n",
       "      <th>74</th>\n",
       "      <td>2017-11-11 08:00:00</td>\n",
       "      <td>Good</td>\n",
       "      <td>1380.0</td>\n",
       "    </tr>\n",
       "    <tr>\n",
       "      <th>76</th>\n",
       "      <td>2017-11-04 09:00:00</td>\n",
       "      <td>Good</td>\n",
       "      <td>1380.0</td>\n",
       "    </tr>\n",
       "    <tr>\n",
       "      <th>117</th>\n",
       "      <td>2017-11-11 07:00:00</td>\n",
       "      <td>Good</td>\n",
       "      <td>1380.0</td>\n",
       "    </tr>\n",
       "    <tr>\n",
       "      <th>119</th>\n",
       "      <td>2017-11-04 14:00:00</td>\n",
       "      <td>Good</td>\n",
       "      <td>3300.0</td>\n",
       "    </tr>\n",
       "    <tr>\n",
       "      <th>...</th>\n",
       "      <td>...</td>\n",
       "      <td>...</td>\n",
       "      <td>...</td>\n",
       "    </tr>\n",
       "    <tr>\n",
       "      <th>1054</th>\n",
       "      <td>2017-11-11 07:00:00</td>\n",
       "      <td>Good</td>\n",
       "      <td>1380.0</td>\n",
       "    </tr>\n",
       "    <tr>\n",
       "      <th>1058</th>\n",
       "      <td>2017-11-25 12:00:00</td>\n",
       "      <td>Good</td>\n",
       "      <td>1440.0</td>\n",
       "    </tr>\n",
       "    <tr>\n",
       "      <th>1062</th>\n",
       "      <td>2017-11-11 06:00:00</td>\n",
       "      <td>Good</td>\n",
       "      <td>1500.0</td>\n",
       "    </tr>\n",
       "    <tr>\n",
       "      <th>1065</th>\n",
       "      <td>2017-11-11 13:00:00</td>\n",
       "      <td>Good</td>\n",
       "      <td>2100.0</td>\n",
       "    </tr>\n",
       "    <tr>\n",
       "      <th>1066</th>\n",
       "      <td>2017-11-11 08:00:00</td>\n",
       "      <td>Good</td>\n",
       "      <td>1380.0</td>\n",
       "    </tr>\n",
       "  </tbody>\n",
       "</table>\n",
       "<p>197 rows × 3 columns</p>\n",
       "</div>"
      ],
      "text/plain": [
       "                 start_ts weather_conditions  duration_seconds\n",
       "62    2017-11-11 06:00:00               Good            1260.0\n",
       "74    2017-11-11 08:00:00               Good            1380.0\n",
       "76    2017-11-04 09:00:00               Good            1380.0\n",
       "117   2017-11-11 07:00:00               Good            1380.0\n",
       "119   2017-11-04 14:00:00               Good            3300.0\n",
       "...                   ...                ...               ...\n",
       "1054  2017-11-11 07:00:00               Good            1380.0\n",
       "1058  2017-11-25 12:00:00               Good            1440.0\n",
       "1062  2017-11-11 06:00:00               Good            1500.0\n",
       "1065  2017-11-11 13:00:00               Good            2100.0\n",
       "1066  2017-11-11 08:00:00               Good            1380.0\n",
       "\n",
       "[197 rows x 3 columns]"
      ]
     },
     "metadata": {},
     "output_type": "display_data"
    }
   ],
   "source": [
    "display(trips_loop_to_ohare_by_weather[trips_loop_to_ohare_by_weather.duplicated()])"
   ]
  },
  {
   "cell_type": "markdown",
   "metadata": {},
   "source": [
    "Interesting! There are 197 rows in the dataframe that have at least one exact duplicate. Considering that the durations of the rides are measured in exact seconds, it is very unlikely that two or more distinct taxi rides would take place in the same hour and take the ***exact same*** number of seconds to complete. Even if, hypothetically, these distinct rides all had their drop-off location in the same neighborhood, even then it is very unlikely that they would have the same duration due to variables including, but not limited to, which route the taxi driver took, whether the rider needed some time at the end of the ride to take out cash from their wallet/purse to pay the driver or not, and which exact building in the neighborhood the rider got dropped off at.\n",
    "\n",
    "Hence, I am convinced that all the rows which are exact duplicates of a previous row should be dropped from the dataframe. Granted, it is ***possible*** that some of these apparent duplicates are genuinely distinct taxi rides, but it would be very difficult, if not impossible, to figure out which are distinct and which are not."
   ]
  },
  {
   "cell_type": "code",
   "execution_count": 8,
   "metadata": {},
   "outputs": [
    {
     "name": "stdout",
     "output_type": "stream",
     "text": [
      "<class 'pandas.core.frame.DataFrame'>\n",
      "RangeIndex: 871 entries, 0 to 870\n",
      "Data columns (total 3 columns):\n",
      " #   Column              Non-Null Count  Dtype  \n",
      "---  ------              --------------  -----  \n",
      " 0   start_ts            871 non-null    object \n",
      " 1   weather_conditions  871 non-null    object \n",
      " 2   duration_seconds    871 non-null    float64\n",
      "dtypes: float64(1), object(2)\n",
      "memory usage: 20.5+ KB\n"
     ]
    }
   ],
   "source": [
    "trips_loop_to_ohare_by_weather = trips_loop_to_ohare_by_weather.drop_duplicates(keep = 'first').reset_index(drop = True)\n",
    "\n",
    "trips_loop_to_ohare_by_weather.info()"
   ]
  },
  {
   "cell_type": "markdown",
   "metadata": {},
   "source": [
    "Out of the 1068 rows in the original dataframe, 871 still remain, which I think is ample data for testing the hypothesis about the average duration of rides from the Loop neighborhood to O'Hare International Airport on rainy Saturdays."
   ]
  },
  {
   "cell_type": "markdown",
   "metadata": {},
   "source": [
    "Regarding the first dataframe, I am worried that there might be some implicit duplicates in the form of the same company appearing in two or more rows. \n",
    "\n",
    "The code below prints the names of all the companies that appear in the dataframe, one company per line and in alphabetical order."
   ]
  },
  {
   "cell_type": "code",
   "execution_count": 9,
   "metadata": {},
   "outputs": [
    {
     "name": "stdout",
     "output_type": "stream",
     "text": [
      "0118 - 42111 Godfrey S. Awir\n",
      "1085 - 72312 N and W Cab Co\n",
      "1469 - 64126 Omar Jada\n",
      "2092 - 61288 Sbeih Company\n",
      "2192 - 73487 Zeymane Corp\n",
      "2241 - 44667 - Felman Corp\n",
      "24 Seven Taxi\n",
      "2733 - 74600 Benny Jona\n",
      "2809 - 95474 C & D Cab Co Inc.\n",
      "2823 - 73307 Lee Express Inc\n",
      "3011 - 66308 JBL Cab Inc.\n",
      "303 Taxi\n",
      "3556 - 36214 RC Andrews Cab\n",
      "3591 - 63480 Chuks Cab\n",
      "3620 - 52292 David K. Cab Corp.\n",
      "3623 - 72222 Arrington Enterprises\n",
      "3721 - Santamaria Express\n",
      "4053 - 40193 Adwar H. Nikola\n",
      "4615 - 83503 Tyrone Henderson\n",
      "4623 - 27290 Jay Kim\n",
      "5 Star Taxi\n",
      "5006 - 39261 Salifu Bawa\n",
      "5062 - 34841 Sam Mestas\n",
      "5074 - 54002 Ahzmi Inc\n",
      "5874 - 73628 Sergey Cab Corp.\n",
      "5997 - 65283 AW Services Inc.\n",
      "6057 - 24657 Richard Addo\n",
      "6574 - Babylon Express Inc.\n",
      "6742 - 83735 Tasha Ride Inc\n",
      "6743 - 78771 Luhak Corp\n",
      "American United\n",
      "American United Taxi Affiliation\n",
      "Blue Diamond\n",
      "Blue Ribbon Taxi Association Inc.\n",
      "Checker Taxi\n",
      "Checker Taxi Affiliation\n",
      "Chicago Carriage Cab Corp\n",
      "Chicago Independents\n",
      "Chicago Medallion Leasing INC\n",
      "Chicago Medallion Management\n",
      "Chicago Star Taxicab\n",
      "Chicago Taxicab\n",
      "Choice Taxi Association\n",
      "City Service\n",
      "Dispatch Taxi Affiliation\n",
      "Flash Cab\n",
      "Globe Taxi\n",
      "Gold Coast Taxi\n",
      "KOAM Taxi Association\n",
      "Leonard Cab Co\n",
      "Medallion Leasing\n",
      "Metro Group\n",
      "Metro Jet Taxi A\n",
      "Norshore Cab\n",
      "Nova Taxi Affiliation Llc\n",
      "Patriot Taxi Dba Peace Taxi Association\n",
      "Service Taxi Association\n",
      "Setare Inc\n",
      "Star North Management LLC\n",
      "Sun Taxi\n",
      "Taxi Affiliation Service Yellow\n",
      "Taxi Affiliation Services\n",
      "Top Cab Affiliation\n",
      "Yellow Cab\n"
     ]
    }
   ],
   "source": [
    "for company in sorted(nov_15_to_16_2017_trips_data_of_companies['company_name']):\n",
    "    print(company)"
   ]
  },
  {
   "cell_type": "markdown",
   "metadata": {},
   "source": [
    "Though none of the company names are exactly the same, I noticed there are multiple instances where two companies have close to the same name, one example being that there is **Taxi Affiliation Services** yet also **Taxi Affiliation Service** <u>***Yellow***</u>. At first I considered either somehow merging rows of companies with similar names or dropping one of the two because I suspect that some (if not all) of these companies are actually one in the same, but ultimately I decided to keep all of these company names, partially because I don't want to risk losing or mangling useful data.\n",
    "\n",
    "There are probably good reasons why there are slight variations in company names that are otherwise very similar, one possible reason being that they are different components of the same company that specialize in different kinds of taxi services. This would make sense because it would be like how Uber is one company, yet when requesting a ride with Uber one can, depending on where they are and where they want to go, request one of several different options including UberX, UberX Saver, Uber Green, Comfort, and Premier SUV."
   ]
  },
  {
   "cell_type": "markdown",
   "metadata": {},
   "source": [
    "I wonder if the second dataframe has any implicit duplicates of the kind that I initially suspected the first dataframe might have? Let us check and see if any of the **dropoff_location_name** values are repeated."
   ]
  },
  {
   "cell_type": "code",
   "execution_count": 10,
   "metadata": {},
   "outputs": [
    {
     "name": "stdout",
     "output_type": "stream",
     "text": [
      "Albany Park\n",
      "Andersonville\n",
      "Archer Heights\n",
      "Armour Square\n",
      "Ashburn\n",
      "Auburn Gresham\n",
      "Austin\n",
      "Avalon Park\n",
      "Avondale\n",
      "Belmont Cragin\n",
      "Beverly\n",
      "Boystown\n",
      "Bridgeport\n",
      "Brighton Park\n",
      "Bucktown\n",
      "Burnside\n",
      "Calumet Heights\n",
      "Chatham\n",
      "Chicago Lawn\n",
      "Chinatown\n",
      "Clearing\n",
      "Douglas\n",
      "Dunning\n",
      "East Side\n",
      "East Village\n",
      "Edgewater\n",
      "Edison Park\n",
      "Englewood\n",
      "Fuller Park\n",
      "Gage Park\n",
      "Garfield Park\n",
      "Garfield Ridge\n",
      "Gold Coast\n",
      "Grand Boulevard\n",
      "Grand Crossing\n",
      "Grant Park\n",
      "Hegewisch\n",
      "Hermosa\n",
      "Humboldt Park\n",
      "Hyde Park\n",
      "Irving Park\n",
      "Jackson Park\n",
      "Jefferson Park\n",
      "Kenwood\n",
      "Lake View\n",
      "Lincoln Park\n",
      "Lincoln Square\n",
      "Little Italy, UIC\n",
      "Little Village\n",
      "Logan Square\n",
      "Loop\n",
      "Lower West Side\n",
      "Mckinley Park\n",
      "Montclare\n",
      "Morgan Park\n",
      "Mount Greenwood\n",
      "Museum Campus\n",
      "Near South Side\n",
      "New City\n",
      "North Center\n",
      "North Lawndale\n",
      "North Park\n",
      "Norwood Park\n",
      "O'Hare\n",
      "Oakland\n",
      "Old Town\n",
      "Portage Park\n",
      "Pullman\n",
      "River North\n",
      "Riverdale\n",
      "Rogers Park\n",
      "Roseland\n",
      "Rush & Division\n",
      "Sauganash,Forest Glen\n",
      "Sheffield & DePaul\n",
      "South Chicago\n",
      "South Deering\n",
      "South Shore\n",
      "Streeterville\n",
      "Ukrainian Village\n",
      "Undef\n",
      "United Center\n",
      "Uptown\n",
      "Washington Heights\n",
      "Washington Park\n",
      "West Elsdon\n",
      "West Lawn\n",
      "West Loop\n",
      "West Pullman\n",
      "West Ridge\n",
      "West Town\n",
      "Wicker Park\n",
      "Woodlawn\n",
      "Wrigleyville\n"
     ]
    }
   ],
   "source": [
    "for neighborhood in sorted(avg_trips_of_neighborhoods['dropoff_location_name']):\n",
    "    print(neighborhood)"
   ]
  },
  {
   "cell_type": "markdown",
   "metadata": {},
   "source": [
    "All of the above neighborhood names are distinct, and hence I see no reason to drop any of the rows in the dataframe. Sure, in some instances there are multiple neighborhoods that contain at least one word that is the same (for example, there are six neighborhoods whose name begins with \"West\"), but this is normal (in my personal experience, I have witnessed \"West Main Street\" and \"West Boulevard\" be common names for locations in a city). "
   ]
  },
  {
   "cell_type": "markdown",
   "metadata": {},
   "source": [
    "In the **Opening the data files and studying the general information** section of this project, I mentioned that it would be nice if the rows in the third dataframe were arranged in ascending order of **start_ts** values. The following code does exactly this."
   ]
  },
  {
   "cell_type": "code",
   "execution_count": 11,
   "metadata": {},
   "outputs": [],
   "source": [
    "trips_loop_to_ohare_by_weather = trips_loop_to_ohare_by_weather.sort_values(by = 'start_ts')"
   ]
  },
  {
   "cell_type": "markdown",
   "metadata": {},
   "source": [
    "In the **Opening the data files and studying the general information** section, I also mentioned that it is a good idea to drop all the rows that have a **duration_seconds** value of 0.0, as these are probably either typos or canceled rides."
   ]
  },
  {
   "cell_type": "code",
   "execution_count": 12,
   "metadata": {},
   "outputs": [
    {
     "name": "stdout",
     "output_type": "stream",
     "text": [
      "<class 'pandas.core.frame.DataFrame'>\n",
      "Int64Index: 865 entries, 743 to 566\n",
      "Data columns (total 3 columns):\n",
      " #   Column              Non-Null Count  Dtype  \n",
      "---  ------              --------------  -----  \n",
      " 0   start_ts            865 non-null    object \n",
      " 1   weather_conditions  865 non-null    object \n",
      " 2   duration_seconds    865 non-null    float64\n",
      "dtypes: float64(1), object(2)\n",
      "memory usage: 27.0+ KB\n"
     ]
    }
   ],
   "source": [
    "trips_loop_to_ohare_by_weather = trips_loop_to_ohare_by_weather[trips_loop_to_ohare_by_weather['duration_seconds'] > 0]\n",
    "\n",
    "trips_loop_to_ohare_by_weather.info()"
   ]
  },
  {
   "cell_type": "markdown",
   "metadata": {},
   "source": [
    "Since there were 871 rows in this dataframe earlier (after I dropped the duplicate rows) and now there are 865, that means there were 6 rows with a **duration_seconds** value of 0.0. This decrease in the number of rows is insignificant."
   ]
  },
  {
   "cell_type": "markdown",
   "metadata": {},
   "source": [
    "Come to think of it, I wonder if there are any non-zero **duration_seconds** values that don't make sense in this context, and hence their corresponding rows should be dropped. Using Google Maps, I realized that the Loop and O'Hare are, under normal circumstances, at least 30 minutes apart from one another. In fact, certain locations in the Loop are more like 40 minutes away from the airport, possibly more. \n",
    "\n",
    "I can imagine there being taxi rides that manage to get to O'Hare from the Loop in only 25 minutes (e.g. the rider has an early morning flight, and hence takes a taxi while there are little to no other cars on the road), but anything under 25 minutes sounds extremely unrealistic. Since 25 minutes is the same as 1500 seconds, then any **duration_seconds** values under 1500.0 should be dropped from the dataframe because these values are probably either typos or signify incomplete taxi rides."
   ]
  },
  {
   "cell_type": "code",
   "execution_count": 13,
   "metadata": {},
   "outputs": [
    {
     "name": "stdout",
     "output_type": "stream",
     "text": [
      "<class 'pandas.core.frame.DataFrame'>\n",
      "Int64Index: 624 entries, 743 to 566\n",
      "Data columns (total 3 columns):\n",
      " #   Column              Non-Null Count  Dtype  \n",
      "---  ------              --------------  -----  \n",
      " 0   start_ts            624 non-null    object \n",
      " 1   weather_conditions  624 non-null    object \n",
      " 2   duration_seconds    624 non-null    float64\n",
      "dtypes: float64(1), object(2)\n",
      "memory usage: 19.5+ KB\n"
     ]
    }
   ],
   "source": [
    "trips_loop_to_ohare_by_weather = trips_loop_to_ohare_by_weather[trips_loop_to_ohare_by_weather['duration_seconds'] >= 1500]\n",
    "\n",
    "trips_loop_to_ohare_by_weather.info()"
   ]
  },
  {
   "cell_type": "markdown",
   "metadata": {},
   "source": [
    "There are now 241 fewer rows. It is unfortunate that so many rows had such unrealistic **duration_seconds** values, but quality is more important than quantity!"
   ]
  },
  {
   "cell_type": "markdown",
   "metadata": {},
   "source": [
    "I suspect that the third dataframe has **duration_seconds** values that are high outliers, but I need to use a more robust method to know for sure. A common method for identifying outliers consists of using the IQR (interquartile range) value. The code below tells me the first and third quartile values, which will help me calculate the IQR value, thereby allowing me to figure out if there are any more outliers. "
   ]
  },
  {
   "cell_type": "code",
   "execution_count": 14,
   "metadata": {},
   "outputs": [
    {
     "data": {
      "text/plain": [
       "count     624.000000\n",
       "mean     2418.724359\n",
       "std       678.868628\n",
       "min      1500.000000\n",
       "25%      1913.500000\n",
       "50%      2333.000000\n",
       "75%      2820.000000\n",
       "max      7440.000000\n",
       "Name: duration_seconds, dtype: float64"
      ]
     },
     "execution_count": 14,
     "metadata": {},
     "output_type": "execute_result"
    }
   ],
   "source": [
    "trips_loop_to_ohare_by_weather['duration_seconds'].describe()"
   ]
  },
  {
   "cell_type": "code",
   "execution_count": 15,
   "metadata": {},
   "outputs": [
    {
     "name": "stdout",
     "output_type": "stream",
     "text": [
      "A duration_seconds value is an outlier if it is less than 553.75 or more than 4179.75\n"
     ]
    }
   ],
   "source": [
    "q1_duration = trips_loop_to_ohare_by_weather['duration_seconds'].quantile(0.25)\n",
    "q3_duration = trips_loop_to_ohare_by_weather['duration_seconds'].quantile(0.75)\n",
    "\n",
    "iqr_duration = q3_duration - q1_duration\n",
    "low_outlier_duration = q1_duration - 1.5*(iqr_duration)\n",
    "high_outlier_duration = q3_duration + 1.5*(iqr_duration)\n",
    "\n",
    "print(\n",
    "f'A duration_seconds value is an outlier if it is less than {low_outlier_duration} or more than {high_outlier_duration}')"
   ]
  },
  {
   "cell_type": "markdown",
   "metadata": {},
   "source": [
    "There are no more low outliers since the minimum duration is now 1500.0 seconds, but there is at least one high outlier because the describe() function revealed to me that the maximum duration_seconds value is 7440.0, which is much more than 4179.75. \n",
    "\n",
    "The code below filters the dataframe to include only the rows where the **duration_seconds** value is at most 4179.75, as well as resets the index because I am now finished with dropping rows. "
   ]
  },
  {
   "cell_type": "code",
   "execution_count": 16,
   "metadata": {},
   "outputs": [
    {
     "name": "stdout",
     "output_type": "stream",
     "text": [
      "<class 'pandas.core.frame.DataFrame'>\n",
      "RangeIndex: 618 entries, 0 to 617\n",
      "Data columns (total 3 columns):\n",
      " #   Column              Non-Null Count  Dtype  \n",
      "---  ------              --------------  -----  \n",
      " 0   start_ts            618 non-null    object \n",
      " 1   weather_conditions  618 non-null    object \n",
      " 2   duration_seconds    618 non-null    float64\n",
      "dtypes: float64(1), object(2)\n",
      "memory usage: 14.6+ KB\n"
     ]
    }
   ],
   "source": [
    "trips_loop_to_ohare_by_weather = trips_loop_to_ohare_by_weather[trips_loop_to_ohare_by_weather['duration_seconds']<=4179.75]\n",
    "\n",
    "trips_loop_to_ohare_by_weather = trips_loop_to_ohare_by_weather.reset_index(drop = True)\n",
    "\n",
    "trips_loop_to_ohare_by_weather.info()"
   ]
  },
  {
   "cell_type": "markdown",
   "metadata": {},
   "source": [
    "There were 6 rows with high outlier **duration_seconds** values, and the dataframe now has 618 rows. \n",
    "\n",
    "This dataframe originally had 1068 rows, meaning approximately 42% of the initial rows have been dropped. I do not see this as a bad thing though, since 58% is still the majority of the initial dataset, and I am convinced that the dataset is now of much higher quality (and hence will yield more accurate results)."
   ]
  },
  {
   "cell_type": "markdown",
   "metadata": {},
   "source": [
    "# Task 1) Finding the Top 10 Neighborhoods for Taxi Dropoffs <a id=4></a>"
   ]
  },
  {
   "cell_type": "code",
   "execution_count": 17,
   "metadata": {},
   "outputs": [
    {
     "data": {
      "text/html": [
       "<div>\n",
       "<style scoped>\n",
       "    .dataframe tbody tr th:only-of-type {\n",
       "        vertical-align: middle;\n",
       "    }\n",
       "\n",
       "    .dataframe tbody tr th {\n",
       "        vertical-align: top;\n",
       "    }\n",
       "\n",
       "    .dataframe thead th {\n",
       "        text-align: right;\n",
       "    }\n",
       "</style>\n",
       "<table border=\"1\" class=\"dataframe\">\n",
       "  <thead>\n",
       "    <tr style=\"text-align: right;\">\n",
       "      <th></th>\n",
       "      <th>dropoff_location_name</th>\n",
       "      <th>average_trips</th>\n",
       "    </tr>\n",
       "  </thead>\n",
       "  <tbody>\n",
       "    <tr>\n",
       "      <th>0</th>\n",
       "      <td>Loop</td>\n",
       "      <td>10727.466667</td>\n",
       "    </tr>\n",
       "    <tr>\n",
       "      <th>1</th>\n",
       "      <td>River North</td>\n",
       "      <td>9523.666667</td>\n",
       "    </tr>\n",
       "    <tr>\n",
       "      <th>2</th>\n",
       "      <td>Streeterville</td>\n",
       "      <td>6664.666667</td>\n",
       "    </tr>\n",
       "    <tr>\n",
       "      <th>3</th>\n",
       "      <td>West Loop</td>\n",
       "      <td>5163.666667</td>\n",
       "    </tr>\n",
       "    <tr>\n",
       "      <th>4</th>\n",
       "      <td>O'Hare</td>\n",
       "      <td>2546.900000</td>\n",
       "    </tr>\n",
       "    <tr>\n",
       "      <th>5</th>\n",
       "      <td>Lake View</td>\n",
       "      <td>2420.966667</td>\n",
       "    </tr>\n",
       "    <tr>\n",
       "      <th>6</th>\n",
       "      <td>Grant Park</td>\n",
       "      <td>2068.533333</td>\n",
       "    </tr>\n",
       "    <tr>\n",
       "      <th>7</th>\n",
       "      <td>Museum Campus</td>\n",
       "      <td>1510.000000</td>\n",
       "    </tr>\n",
       "    <tr>\n",
       "      <th>8</th>\n",
       "      <td>Gold Coast</td>\n",
       "      <td>1364.233333</td>\n",
       "    </tr>\n",
       "    <tr>\n",
       "      <th>9</th>\n",
       "      <td>Sheffield &amp; DePaul</td>\n",
       "      <td>1259.766667</td>\n",
       "    </tr>\n",
       "  </tbody>\n",
       "</table>\n",
       "</div>"
      ],
      "text/plain": [
       "  dropoff_location_name  average_trips\n",
       "0                  Loop   10727.466667\n",
       "1           River North    9523.666667\n",
       "2         Streeterville    6664.666667\n",
       "3             West Loop    5163.666667\n",
       "4                O'Hare    2546.900000\n",
       "5             Lake View    2420.966667\n",
       "6            Grant Park    2068.533333\n",
       "7         Museum Campus    1510.000000\n",
       "8            Gold Coast    1364.233333\n",
       "9    Sheffield & DePaul    1259.766667"
      ]
     },
     "metadata": {},
     "output_type": "display_data"
    }
   ],
   "source": [
    "display(avg_trips_of_neighborhoods.head(10))"
   ]
  },
  {
   "cell_type": "markdown",
   "metadata": {},
   "source": [
    "Wow... what a decrease from the neighborhood in first place to the one in tenth place! Loop is the clear winner, followed somewhat distantly by River North in second place, and then there is a ***big*** decrease to third place with Streeterville. There is a somewhat big decrease from third place to fourth place where West Loop stands, and then a big decrease to fifth place where O'Hare stands. From there, the decreases become much less dramatic."
   ]
  },
  {
   "cell_type": "markdown",
   "metadata": {},
   "source": [
    "Let's make a bar graph of these top 10 average_trips values!"
   ]
  },
  {
   "cell_type": "code",
   "execution_count": 18,
   "metadata": {},
   "outputs": [
    {
     "data": {
      "image/png": "[encoded data removed]",
      "text/plain": [
       "<Figure size 1152x576 with 1 Axes>"
      ]
     },
     "metadata": {
      "needs_background": "light"
     },
     "output_type": "display_data"
    }
   ],
   "source": [
    "top_10_dropoffs = avg_trips_of_neighborhoods.head(10)\n",
    "\n",
    "plt.figure(figsize = (16, 8))\n",
    "plt.bar(top_10_dropoffs['dropoff_location_name'], top_10_dropoffs['average_trips'])\n",
    "plt.grid(axis = 'y', linestyle = '-', linewidth = 0.7, alpha = 0.7)\n",
    "plt.title('Average Number of Taxi Ride Dropoffs By Location In Chicago In November 2017')\n",
    "plt.xlabel('Dropoff Location Name')\n",
    "plt.ylabel('Average Number of Taxi Ride Dropoffs')\n",
    "plt.yticks([0, 1000, 2000, 3000, 4000, 5000, 6000, 7000, 8000, 9000, 10000, 11000])\n",
    "\n",
    "plt.show()"
   ]
  },
  {
   "cell_type": "markdown",
   "metadata": {},
   "source": [
    "The above bar graph nicely visualizes my description from earlier of how from the first place to the fifth place neighborhood the average number of taxi ride dropoffs decreases by a lot as you go in descending order of place, but the decreases in each place from fifth to tenth are much steadier and less dramatic."
   ]
  },
  {
   "cell_type": "markdown",
   "metadata": {},
   "source": [
    "I am curious to know which of these dropoff locations, if any, are high outliers in terms of average number of taxi ride dropoffs when compared to the norm. \n",
    "\n",
    "I will use the formula Q3 + 1.5*IQR to find the high outliers, where Q3 is the third quartile value and IQR is the interquartile range (Q3 – Q1)."
   ]
  },
  {
   "cell_type": "code",
   "execution_count": 19,
   "metadata": {},
   "outputs": [
    {
     "name": "stdout",
     "output_type": "stream",
     "text": [
      "An average_trips value is a high outlier if it is more than 725.7458333333334\n"
     ]
    }
   ],
   "source": [
    "q1_avg_trips = avg_trips_of_neighborhoods['average_trips'].quantile(0.25)\n",
    "q3_avg_trips = avg_trips_of_neighborhoods['average_trips'].quantile(0.75)\n",
    "\n",
    "iqr_avg_trips = q3_avg_trips - q1_avg_trips\n",
    "\n",
    "high_outlier_avg_trips = q3_avg_trips + 1.5*(iqr_avg_trips)\n",
    "\n",
    "print(f'An average_trips value is a high outlier if it is more than {high_outlier_avg_trips}')"
   ]
  },
  {
   "cell_type": "markdown",
   "metadata": {},
   "source": [
    "Wow! All 10 of the top 10 dropoff locations are high outliers in terms of their average_trips values. I am glad I did this outliers analysis because this should really put into perspective for **Zuber** stakeholders why they should pay especially close attention to these neighborhoods as potential dropoff locations."
   ]
  },
  {
   "cell_type": "markdown",
   "metadata": {},
   "source": [
    "I don't see any harm in making a box plot of the average_trips values. In fact, I think a box plot would nicely visualize how extreme the high outliers are."
   ]
  },
  {
   "cell_type": "code",
   "execution_count": 20,
   "metadata": {},
   "outputs": [
    {
     "data": {
      "image/png": "[encoded data removed]",
      "text/plain": [
       "<Figure size 1152x576 with 1 Axes>"
      ]
     },
     "metadata": {
      "needs_background": "light"
     },
     "output_type": "display_data"
    },
    {
     "name": "stdout",
     "output_type": "stream",
     "text": [
      "count       94.000000\n",
      "mean       599.953728\n",
      "std       1714.591098\n",
      "min          1.800000\n",
      "25%         14.266667\n",
      "50%         52.016667\n",
      "75%        298.858333\n",
      "max      10727.466667\n",
      "Name: average_trips, dtype: float64\n"
     ]
    }
   ],
   "source": [
    "plt.figure(figsize = (16, 8))\n",
    "sns.boxplot(data = avg_trips_of_neighborhoods, orient = 'h', x = 'average_trips')\n",
    "plt.grid(axis = 'x', linestyle = '-', linewidth = 0.7, alpha = 0.7)\n",
    "plt.title('Box Plot of Average Number of Taxi Rides Completed In a Particular Location In Chicago In November 2017')\n",
    "plt.xlabel('Average Number of Taxi Rides Completed')\n",
    "plt.xticks([0, 1000, 2000, 3000, 4000, 5000, 6000, 7000, 8000, 9000, 10000, 11000])\n",
    "plt.show()\n",
    "\n",
    "print(avg_trips_of_neighborhoods['average_trips'].describe())"
   ]
  },
  {
   "cell_type": "markdown",
   "metadata": {},
   "source": [
    "Wow! I especially find it eye-opening how the median **average_trips** value is merely approximately 52. Medians are often used to represent the \"typical\" value of a dataset, yet in this case the median value is ***tiny*** compared to how large the largest values are. This goes to show that a small number of neighborhoods in Chicago are used as taxi dropoff locations a hugely disproportionately larger number of times than \"typical\" Chicago neighborhoods. "
   ]
  },
  {
   "cell_type": "markdown",
   "metadata": {},
   "source": [
    "# Task 2) Comparing the Popularity of Different Taxi Companies <a id=5></a>"
   ]
  },
  {
   "cell_type": "markdown",
   "metadata": {},
   "source": [
    "Just like what I did in Task 1), I think it is appropriate to figure out which are the top 10 performing taxi companies, in terms of the number of rides completed by their drivers on November 15-16, 2017."
   ]
  },
  {
   "cell_type": "code",
   "execution_count": 21,
   "metadata": {},
   "outputs": [
    {
     "data": {
      "text/html": [
       "<div>\n",
       "<style scoped>\n",
       "    .dataframe tbody tr th:only-of-type {\n",
       "        vertical-align: middle;\n",
       "    }\n",
       "\n",
       "    .dataframe tbody tr th {\n",
       "        vertical-align: top;\n",
       "    }\n",
       "\n",
       "    .dataframe thead th {\n",
       "        text-align: right;\n",
       "    }\n",
       "</style>\n",
       "<table border=\"1\" class=\"dataframe\">\n",
       "  <thead>\n",
       "    <tr style=\"text-align: right;\">\n",
       "      <th></th>\n",
       "      <th>company_name</th>\n",
       "      <th>trips_amount</th>\n",
       "    </tr>\n",
       "  </thead>\n",
       "  <tbody>\n",
       "    <tr>\n",
       "      <th>0</th>\n",
       "      <td>Flash Cab</td>\n",
       "      <td>19558</td>\n",
       "    </tr>\n",
       "    <tr>\n",
       "      <th>1</th>\n",
       "      <td>Taxi Affiliation Services</td>\n",
       "      <td>11422</td>\n",
       "    </tr>\n",
       "    <tr>\n",
       "      <th>2</th>\n",
       "      <td>Medallion Leasing</td>\n",
       "      <td>10367</td>\n",
       "    </tr>\n",
       "    <tr>\n",
       "      <th>3</th>\n",
       "      <td>Yellow Cab</td>\n",
       "      <td>9888</td>\n",
       "    </tr>\n",
       "    <tr>\n",
       "      <th>4</th>\n",
       "      <td>Taxi Affiliation Service Yellow</td>\n",
       "      <td>9299</td>\n",
       "    </tr>\n",
       "    <tr>\n",
       "      <th>5</th>\n",
       "      <td>Chicago Carriage Cab Corp</td>\n",
       "      <td>9181</td>\n",
       "    </tr>\n",
       "    <tr>\n",
       "      <th>6</th>\n",
       "      <td>City Service</td>\n",
       "      <td>8448</td>\n",
       "    </tr>\n",
       "    <tr>\n",
       "      <th>7</th>\n",
       "      <td>Sun Taxi</td>\n",
       "      <td>7701</td>\n",
       "    </tr>\n",
       "    <tr>\n",
       "      <th>8</th>\n",
       "      <td>Star North Management LLC</td>\n",
       "      <td>7455</td>\n",
       "    </tr>\n",
       "    <tr>\n",
       "      <th>9</th>\n",
       "      <td>Blue Ribbon Taxi Association Inc.</td>\n",
       "      <td>5953</td>\n",
       "    </tr>\n",
       "  </tbody>\n",
       "</table>\n",
       "</div>"
      ],
      "text/plain": [
       "                        company_name  trips_amount\n",
       "0                          Flash Cab         19558\n",
       "1          Taxi Affiliation Services         11422\n",
       "2                  Medallion Leasing         10367\n",
       "3                         Yellow Cab          9888\n",
       "4    Taxi Affiliation Service Yellow          9299\n",
       "5          Chicago Carriage Cab Corp          9181\n",
       "6                       City Service          8448\n",
       "7                           Sun Taxi          7701\n",
       "8          Star North Management LLC          7455\n",
       "9  Blue Ribbon Taxi Association Inc.          5953"
      ]
     },
     "execution_count": 21,
     "metadata": {},
     "output_type": "execute_result"
    }
   ],
   "source": [
    "nov_15_to_16_2017_trips_data_of_companies.head(10)"
   ]
  },
  {
   "cell_type": "markdown",
   "metadata": {},
   "source": [
    "Now let's make a bar graph! \n",
    "\n",
    "Before that, however, I will give some of the above companies an abbreviation because otherwise the names won't fit nicely on the graph.\n",
    "\n",
    "I will abbreviate... \n",
    "\n",
    "— **Taxi Affiliation Services** as TAS\n",
    "\n",
    "— **Medallion Leasing** as Medallion L.\n",
    "\n",
    "— **Taxi Affiliation Service Yellow** as TAS Yellow\n",
    "\n",
    "— **Chicago Carriage Cab Corp** as CCCC\n",
    "\n",
    "— **Star North Management LLC** as SNM LLC\n",
    "\n",
    "— **Blue Ribbon Taxi Association Inc.** as BRTA Inc."
   ]
  },
  {
   "cell_type": "code",
   "execution_count": 22,
   "metadata": {},
   "outputs": [
    {
     "data": {
      "image/png": "[encoded data removed]",
      "text/plain": [
       "<Figure size 1152x576 with 1 Axes>"
      ]
     },
     "metadata": {
      "needs_background": "light"
     },
     "output_type": "display_data"
    }
   ],
   "source": [
    "top_10_taxi_companies = nov_15_to_16_2017_trips_data_of_companies.head(10).copy()\n",
    "\n",
    "top_10_taxi_companies['company_name'] = top_10_taxi_companies['company_name'].replace('Taxi Affiliation Services', 'TAS')\n",
    "top_10_taxi_companies['company_name'] = top_10_taxi_companies['company_name'].replace('Medallion Leasing', 'Medallion L.')\n",
    "top_10_taxi_companies['company_name'] = top_10_taxi_companies['company_name'].replace('Taxi Affiliation Service Yellow', \n",
    "                                                                                      'TAS Yellow')\n",
    "top_10_taxi_companies['company_name'] = top_10_taxi_companies['company_name'].replace('Chicago Carriage Cab Corp', 'CCCC')\n",
    "top_10_taxi_companies['company_name'] = top_10_taxi_companies['company_name'].replace('Star North Management LLC', \n",
    "                                                                                      'SNM LLC')\n",
    "top_10_taxi_companies['company_name'] = top_10_taxi_companies['company_name'].replace('Blue Ribbon Taxi Association Inc.', \n",
    "                                                                                      'BRTA Inc.')\n",
    "\n",
    "plt.figure(figsize = (16, 8))\n",
    "plt.bar(top_10_taxi_companies['company_name'], top_10_taxi_companies['trips_amount'])\n",
    "plt.grid(axis = 'y', linestyle = '-', linewidth = 0.7, alpha = 0.7)\n",
    "plt.title('Number of Taxi Rides Completed By Chicago-Based Taxi Companies On November 15-16, 2017')\n",
    "plt.xlabel('Taxi Company Name')\n",
    "plt.ylabel('Number of Taxi Rides Completed On November 15-16, 2017')\n",
    "plt.yticks([0, 2000, 4000, 6000, 8000, 10000, 12000, 14000, 16000, 18000, 20000])\n",
    "\n",
    "plt.show()"
   ]
  },
  {
   "cell_type": "markdown",
   "metadata": {},
   "source": [
    "Wow! **Flash Cab** is ***by far*** the most commonly selected taxi company in Chicago! In fact, the number of rides completed by **Flash Cab** drivers on November 15-16, 2017 is somewhat close to double the number of rides completed by the second place company, **Taxi Affiliation Services**. From second place onward, however, the decrease in the number of rides is relatively small and steady, except for a somewhat large decrease from ninth place (Star North Management LLC) to tenth (Blue Ribbon Taxi Association Inc.)."
   ]
  },
  {
   "cell_type": "code",
   "execution_count": 23,
   "metadata": {},
   "outputs": [
    {
     "name": "stdout",
     "output_type": "stream",
     "text": [
      "A trips_amount value is a low outlier if it is less than -3107.875\n",
      "A trips_amount value is a high outlier if it is more than 5235.125\n"
     ]
    }
   ],
   "source": [
    "q1_trips_amount = nov_15_to_16_2017_trips_data_of_companies['trips_amount'].quantile(0.25)\n",
    "q3_trips_amount = nov_15_to_16_2017_trips_data_of_companies['trips_amount'].quantile(0.75)\n",
    "\n",
    "iqr_trips_amount = q3_trips_amount - q1_trips_amount\n",
    "\n",
    "low_outlier_trips_amount = q1_trips_amount - 1.5*(iqr_trips_amount)\n",
    "high_outlier_trips_amount = q3_trips_amount + 1.5*(iqr_trips_amount)\n",
    "\n",
    "print(f'A trips_amount value is a low outlier if it is less than {low_outlier_trips_amount}')\n",
    "print(f'A trips_amount value is a high outlier if it is more than {high_outlier_trips_amount}')"
   ]
  },
  {
   "cell_type": "markdown",
   "metadata": {},
   "source": [
    "Just like what happened in Task 1), I have come to the realization that all 10 of the top 10 most commonly used taxi companies are high outliers in terms of their trips_amount values. This means that even those **Flash Cab** is by far the most popular taxi company in Chicago, **Zuber** would also benefit from partnerships with all 9 of the taxi companies on the top 10 list.\n",
    "\n",
    "On the flip side, when I displayed the dataframe earlier I noticed that there are multiple companies whose trips_amount values were in the single digits! This is probably because these \"companies\" are actually merely individuals using their personal car as an occasional taxi. For example, \"2733 - 74600 Benny Jona\" likely refers to an individual named Benny Jona who uses his own car as a taxi when his schedule allows for it."
   ]
  },
  {
   "cell_type": "markdown",
   "metadata": {},
   "source": [
    "I would now like to make a box plot of the **trips_amount** values for the sake of visualizing how extreme the high outliers are compared to the \"norm\"."
   ]
  },
  {
   "cell_type": "code",
   "execution_count": 24,
   "metadata": {},
   "outputs": [
    {
     "data": {
      "image/png": "[encoded data removed]",
      "text/plain": [
       "<Figure size 1152x576 with 1 Axes>"
      ]
     },
     "metadata": {
      "needs_background": "light"
     },
     "output_type": "display_data"
    },
    {
     "name": "stdout",
     "output_type": "stream",
     "text": [
      "count       64.000000\n",
      "mean      2145.484375\n",
      "std       3812.310186\n",
      "min          2.000000\n",
      "25%         20.750000\n",
      "50%        178.500000\n",
      "75%       2106.500000\n",
      "max      19558.000000\n",
      "Name: trips_amount, dtype: float64\n"
     ]
    }
   ],
   "source": [
    "plt.figure(figsize = (16, 8))\n",
    "sns.boxplot(data = nov_15_to_16_2017_trips_data_of_companies, orient = 'h', x = 'trips_amount')\n",
    "plt.grid(axis = 'x', linestyle = '-', linewidth = 0.7, alpha = 0.7)\n",
    "plt.title('Box Plot of Number of Taxi Rides Completed By Chicago-Based Taxi Companies In November 15-16, 2017')\n",
    "plt.xlabel('Number of Taxi Rides Completed On November 15-16, 2017')\n",
    "plt.xticks([0, 2000, 4000, 6000, 8000, 10000, 12000, 14000, 16000, 18000, 20000])\n",
    "plt.show()\n",
    "\n",
    "print(nov_15_to_16_2017_trips_data_of_companies['trips_amount'].describe())"
   ]
  },
  {
   "cell_type": "markdown",
   "metadata": {},
   "source": [
    "Similar to my commentary on Task 1)'s box plot, I find it astounding how much smaller the median **trips_amount** value, 178.5, is than the largest **trips_amount** values. This box plot really puts into perspective the extent to which a small number of taxi companies absolutely dominate the market."
   ]
  },
  {
   "cell_type": "markdown",
   "metadata": {},
   "source": [
    "# Task 3) Duration of Rides In Different Weather Conditions Hypothesis Test <a id=6></a>"
   ]
  },
  {
   "cell_type": "markdown",
   "metadata": {},
   "source": [
    "I am interested in testing the following hypothesis:\n",
    "\n",
    "***The average duration of rides from the Loop (neighborhood) to O'Hare International Airport changes on rainy Saturdays.***\n",
    "\n",
    "I suspect that this is true. Specifically, I have reason to think that the average duration of rides from the Loop (neighborhood) to O'Hare International Airport is **longer** on rainy Saturdays than on nonrainy Saturdays. Hence, I will used a one-tailed hypothesis test.\n",
    "\n",
    "When it comes to this kind of testing, the null hypothesis is always the one that supposes the averages are equal, so I define the null and alternative hypotheses in the following way:\n",
    "\n",
    "**Null:** The average duration of taxi rides from the Loop neighborhood to O'Hare International Airport on rainy Saturdays is equal to the average duration of taxi rides from the Loop neighborhood to O'Hare International Airport on nonrainy Saturdays.\n",
    "\n",
    "**Alternative:** The average duration of taxi rides from the Loop neighborhood to O'Hare International Airport on rainy Saturdays is ***greater than*** the average duration of taxi rides from the Loop neighborhood to O'Hare International Airport on nonrainy Saturdays.\n",
    "\n",
    "This test uses a 95% confidence interval, the most commonly used one, because I see no good reason to use a different interval."
   ]
  },
  {
   "cell_type": "markdown",
   "metadata": {},
   "source": [
    "I will now create two new dataframes, one containing the Saturday data when the weather was \"Good\", and the other containing the Saturday data when the weather was \"Bad\". \n",
    "\n",
    "Just before doing that, I create a new dataframe named **sat_rides_nov_2017** that is a filtered version of **trips_loop_to_ohare_by_weather** which only contains the data of rides that took place on a Saturday."
   ]
  },
  {
   "cell_type": "code",
   "execution_count": 25,
   "metadata": {},
   "outputs": [],
   "source": [
    "trips_loop_to_ohare_by_weather.loc[:, 'start_ts'] = pd.to_datetime(trips_loop_to_ohare_by_weather.start_ts)\n",
    "\n",
    "sat_rides_nov_2017 = trips_loop_to_ohare_by_weather[trips_loop_to_ohare_by_weather.start_ts.dt.dayofweek == 5]"
   ]
  },
  {
   "cell_type": "code",
   "execution_count": 26,
   "metadata": {},
   "outputs": [
    {
     "name": "stdout",
     "output_type": "stream",
     "text": [
      "<class 'pandas.core.frame.DataFrame'>\n",
      "RangeIndex: 495 entries, 0 to 494\n",
      "Data columns (total 3 columns):\n",
      " #   Column              Non-Null Count  Dtype         \n",
      "---  ------              --------------  -----         \n",
      " 0   start_ts            495 non-null    datetime64[ns]\n",
      " 1   weather_conditions  495 non-null    object        \n",
      " 2   duration_seconds    495 non-null    float64       \n",
      "dtypes: datetime64[ns](1), float64(1), object(1)\n",
      "memory usage: 11.7+ KB\n",
      "\n",
      "Nonrainy Saturday duration_seconds values summary statistics:\n",
      "count     495.000000\n",
      "mean     2334.008081\n",
      "std       597.086191\n",
      "min      1500.000000\n",
      "25%      1814.000000\n",
      "50%      2271.000000\n",
      "75%      2713.000000\n",
      "max      4140.000000\n",
      "Name: duration_seconds, dtype: float64\n",
      "\n",
      "Nonrainy Saturday duration_seconds variance value: 356511.91896290844\n"
     ]
    }
   ],
   "source": [
    "nonrainy_sat_rides = sat_rides_nov_2017[sat_rides_nov_2017['weather_conditions'] == 'Good'].reset_index(drop = True)\n",
    "\n",
    "nonrainy_sat_rides.info()\n",
    "\n",
    "print()\n",
    "print('Nonrainy Saturday duration_seconds values summary statistics:')\n",
    "print(nonrainy_sat_rides['duration_seconds'].describe())\n",
    "print()\n",
    "print('Nonrainy Saturday duration_seconds variance value:', nonrainy_sat_rides['duration_seconds'].var())"
   ]
  },
  {
   "cell_type": "code",
   "execution_count": 27,
   "metadata": {},
   "outputs": [
    {
     "name": "stdout",
     "output_type": "stream",
     "text": [
      "<class 'pandas.core.frame.DataFrame'>\n",
      "RangeIndex: 123 entries, 0 to 122\n",
      "Data columns (total 3 columns):\n",
      " #   Column              Non-Null Count  Dtype         \n",
      "---  ------              --------------  -----         \n",
      " 0   start_ts            123 non-null    datetime64[ns]\n",
      " 1   weather_conditions  123 non-null    object        \n",
      " 2   duration_seconds    123 non-null    float64       \n",
      "dtypes: datetime64[ns](1), float64(1), object(1)\n",
      "memory usage: 3.0+ KB\n",
      "\n",
      "Rainy Saturday duration_seconds values summary statistics:\n",
      "count     123.000000\n",
      "mean     2609.349593\n",
      "std       566.247730\n",
      "min      1500.000000\n",
      "25%      2237.500000\n",
      "50%      2606.000000\n",
      "75%      2997.500000\n",
      "max      4044.000000\n",
      "Name: duration_seconds, dtype: float64\n",
      "\n",
      "Rainy Saturday duration_seconds variance value: 320636.4915367186\n"
     ]
    }
   ],
   "source": [
    "rainy_sat_rides = sat_rides_nov_2017[sat_rides_nov_2017['weather_conditions'] == 'Bad'].reset_index(drop = True)\n",
    "\n",
    "rainy_sat_rides.info()\n",
    "\n",
    "print()\n",
    "print('Rainy Saturday duration_seconds values summary statistics:')\n",
    "print(rainy_sat_rides['duration_seconds'].describe())\n",
    "print()\n",
    "print('Rainy Saturday duration_seconds variance value:', rainy_sat_rides['duration_seconds'].var())"
   ]
  },
  {
   "cell_type": "markdown",
   "metadata": {},
   "source": [
    "The dataframe where the weather conditions are \"Good\" has 495 rows, whereas the dataframe where the weather conditions are \"Bad\" has 123 rows, which is ***much*** fewer but I suspect that 123 rows of data is still plenty for this hypothesis test.\n",
    "\n",
    "Interestingly, the two dataframes have quite similar standard deviations values, 597.086191 and 566.247730 respectively, and consequently their variances values are quite similar as well, meaning I will set the **equal_var** parameter to ***True***."
   ]
  },
  {
   "cell_type": "code",
   "execution_count": 28,
   "metadata": {},
   "outputs": [
    {
     "name": "stdout",
     "output_type": "stream",
     "text": [
      "p-value: 4.600433750349973e-06\n",
      "We reject the null hypothesis.\n"
     ]
    }
   ],
   "source": [
    "sat_weather_test = st.ttest_ind(nonrainy_sat_rides['duration_seconds'], rainy_sat_rides['duration_seconds'], \n",
    "                                equal_var = True)\n",
    "\n",
    "print('p-value:', sat_weather_test.pvalue)\n",
    "\n",
    "sat_weather_test_p_value = 0.05\n",
    "\n",
    "if sat_weather_test.statistic < 0 and sat_weather_test.pvalue < sat_weather_test_p_value / 2:    \n",
    "    print('We reject the null hypothesis.')\n",
    "else:\n",
    "    print('We fail to reject the null hypothesis.')"
   ]
  },
  {
   "cell_type": "markdown",
   "metadata": {},
   "source": [
    "Recall that the null hypothesis was defined as \"*The average duration of taxi rides from the Loop neighborhood to O'Hare International Airport on rainy Saturdays is equal to the average duration of taxi rides from the Loop neighborhood to O'Hare International Airport on nonrainy Saturdays.*\". \n",
    "\n",
    "By rejecting this null hypothesis, I am saying that it is far more likely to be true that the average duration of rides from the Loop neighborhood to O'Hare International Airport ***changes*** on rainy Saturdays, specifically that the average duration is ***longer*** on rainy Saturdays than on nonrainy Saturdays.\n",
    "\n",
    "<u>**SIDE NOTE**</u>**:** \n",
    "\n",
    "The if statement requires the **sat_weather_test.statistic** to be less than 0 is because the first sample's mean, **nonrainy_sat_rides['duration_seconds']**, is expected to be less than the second sample's mean, **rainy_sat_rides['duration_seconds']**, and whenever that is true the t–statistic consequently is negative."
   ]
  },
  {
   "cell_type": "markdown",
   "metadata": {},
   "source": [
    "# Conclusions <a id=7></a>"
   ]
  },
  {
   "cell_type": "markdown",
   "metadata": {},
   "source": [
    "If given the opportunity to share my findings with **Zuber** stakeholders, the following are my practical takeaways for them:\n",
    "\n",
    "(1) According to data from November 2017, there are 10 neighborhoods in Chicago that absolutely dominate with respect to the number of times they are used as taxi dropoff locations, on average. Any neighborhood where the average number of taxi dropoffs is greater than 726 is an outlier, and all 10 of the top 10 neighborhoods match this description. \n",
    "\n",
    "The names of the top 10 neighborhoods and their (approximate) average number of taxi dropoffs, in descending order, are as follows:\n",
    "\n",
    "    1st Loop 10,727\n",
    "    2nd River North 9,524\n",
    "    3rd Streeterville 6,665\n",
    "    4th West Loop 5,164\n",
    "    5th O'Hare 2,547\n",
    "    6th Lake View 2,421\n",
    "    7th Grant Park 2,069\n",
    "    8th Museum Campus 1,510\n",
    "    9th Gold Coast 1,364\n",
    "    10th Sheffield & DePaul 1,260\n",
    "\n",
    "I recommend **Zuber** to put a lot of focus on advertising their services to noteworthy destinations in these neighborhoods, including hotels, restaurants, and venues. I also recommend **Zuber** to consider occasionally offering deals to customers who use taxis to get to these neighborhoods, perhaps something akin to \"If you schedule a taxi ride with **Zuber** at least X hours in advance to one of these neighborhoods, you will get Y% off the price of the ride\". \n",
    "\n",
    "If 10 neighborhoods is too many to focus on, then **Zuber** should prioritize their advertising efforts on especially (in descending order) the neighborhoods Loop, River North, Streeterville, and West Loop, as there is a big gap in popularity between those 4 and the bottom 6 neighborhoods in the top 10 list.\n",
    "\n",
    "(2) According to data on the number of rides completed on November 15-16, 2017 by various taxi companies, the top 10 most popular companies absolutely annihilate their lower performing competitors. Any company whose drivers completed over 5,235 rides on those two days is considered an outlier, and all 10 companies on the top 10 list are outliers.  \n",
    "\n",
    "The names of the top 10 most requested taxi companies and their number of rides completed on November 15-16, 2017, in descending order, are as follows:\n",
    "\n",
    "    1st Flash Cab 19,558\n",
    "    2nd Taxi Affiliation Services 11,422\n",
    "    3rd Medallion Leasing 10,367\n",
    "    4th Yellow Cab 9,888\n",
    "    5th Taxi Affiliation Service Yellow 9,299\n",
    "    6th Chicago Carriage Cab Corp 9,181\n",
    "    7th City Service 8,448\n",
    "    8th Sun Taxi 7,701\n",
    "    9th Star North Management LLC 7,455\n",
    "    10th Blue Ribbon Taxi Association Inc. 5,953\n",
    "    \n",
    "I highly recommend **Zuber** to consider forming partnerships with one or more of the companies in the above top 10 list, the kinds of partnerships where **Zuber** and the other company help each other advertise their services to potential customers. Maybe it would also be a good idea for **Zuber** to occasionally offer deals to customers who use **Zuber** to book a ride with a driver from one of those 10 companies, e.g. \"If you use **Zuber** to book a ride with a **Flash Cab** driver, then you will receive a 5 dollar off coupon for use the next time you book with **Zuber**\". \n",
    "\n",
    "If **Zuber** had to pick only one taxi company to form a partnership with, it should be **Flash Cab** because of how much more popular that company is compared to even the second most popular taxi company, **Taxi Affiliation Services**.\n",
    "\n",
    "(3) I did a one-tailed hypothesis test to see if there is a statistically significant difference between the average duration of Saturday taxi rides (in seconds) from the Loop neighborhood to O'Hare International Airport when it is raining outside compared to Saturday taxi rides from Loop to O'Hare when it is not raining outside. When I did the test under the assumption that the averages are equal, I ended up rejecting that hypothesis in favor of assuming that the average duration is longer when it is raining than when it isn't.\n",
    "\n",
    "When considering two taxi rides that are identical except that one is occuring in rainy weather and the other isn't, I think it is reasonable to expect the ride in rainy weather to take longer, on average, because visibility and road conditions are worsened by rain, and consequently taxi drivers and other drivers alike tend to drive slower in such conditions. Hence, **Zuber** should consider paying its drivers more whenever the weather is bad in order to reward them for needing more time to complete drives (on average) and for putting themselves at greater risk of getting into a crash."
   ]
  }
 ],
 "metadata": {
  "kernelspec": {
   "display_name": "Python 3 (ipykernel)",
   "language": "python",
   "name": "python3"
  },
  "language_info": {
   "codemirror_mode": {
    "name": "ipython",
    "version": 3
   },
   "file_extension": ".py",
   "mimetype": "text/x-python",
   "name": "python",
   "nbconvert_exporter": "python",
   "pygments_lexer": "ipython3",
   "version": "3.9.5"
  },
  "toc": {
   "base_numbering": 1,
   "nav_menu": {},
   "number_sections": true,
   "sideBar": true,
   "skip_h1_title": true,
   "title_cell": "Table of Contents",
   "title_sidebar": "Contents",
   "toc_cell": false,
   "toc_position": {},
   "toc_section_display": true,
   "toc_window_display": false
  }
 },
 "nbformat": 4,
 "nbformat_minor": 2
}
